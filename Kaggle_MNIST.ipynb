{
 "cells": [
  {
   "cell_type": "code",
   "execution_count": 1,
   "metadata": {},
   "outputs": [
    {
     "name": "stderr",
     "output_type": "stream",
     "text": [
      "Using Theano backend.\n",
      "Using cuDNN version 5110 on context None\n",
      "Preallocating 3276/4096 Mb (0.800000) on cuda\n",
      "Mapped name None to device cuda: Quadro K4200 (0000:01:00.0)\n"
     ]
    }
   ],
   "source": [
    "import numpy as np\n",
    "from keras.datasets import mnist\n",
    "from keras.models import Sequential\n",
    "from keras.layers import Dense, Dropout, Flatten\n",
    "from keras.layers import Conv2D, MaxPooling2D\n",
    "from keras.utils import np_utils\n",
    "import sys\n",
    "import os.path\n",
    "\n",
    "# Устанавливаем seed для повторяемости результатов\n",
    "np.random.seed(42)\n",
    "\n",
    "TRAIN_FILE = r\"C:\\Users\\Dmitry\\Desktop\\\\CNN_Research_2018\\\\train.csv\"\n",
    "TEST_FILE = r\"C:\\Users\\Dmitry\\Desktop\\\\CNN_Research_2018\\\\test.csv\"\n",
    "OUTPUT_FILE = r\"C:\\Users\\Dmitry\\Desktop\\\\CNN_Research_2018\\\\submission.csv\"\n",
    "\n",
    "# Размер изображения\n",
    "img_rows, img_cols = 28, 28\n",
    "\n",
    "if not os.path.isfile(TRAIN_FILE) or not os.path.isfile(TEST_FILE):\n",
    "    print(\"\"\"Загрузите с kaggle данные для обучения и тестирования\n",
    "             (файлы train.csv и test.csv) и запишите их в текущий каталог\n",
    "          \"\"\")\n",
    "    sys.exit()"
   ]
  },
  {
   "cell_type": "code",
   "execution_count": 44,
   "metadata": {
    "collapsed": true
   },
   "outputs": [],
   "source": [
    "train_dataset = np.loadtxt(r'C:\\Users\\Dmitry\\Desktop\\\\CNN_Research_2018\\\\train.csv', skiprows=1, dtype='int', delimiter=',')"
   ]
  },
  {
   "cell_type": "code",
   "execution_count": 45,
   "metadata": {
    "collapsed": true
   },
   "outputs": [],
   "source": [
    "# Выделяем данные для обучения\n",
    "x_train = train_dataset[:, 1:]"
   ]
  },
  {
   "cell_type": "code",
   "execution_count": 46,
   "metadata": {},
   "outputs": [
    {
     "data": {
      "text/plain": [
       "(42000, 784)"
      ]
     },
     "execution_count": 46,
     "metadata": {},
     "output_type": "execute_result"
    }
   ],
   "source": [
    "x_train.shape"
   ]
  },
  {
   "cell_type": "code",
   "execution_count": 47,
   "metadata": {
    "collapsed": true
   },
   "outputs": [],
   "source": [
    "\n",
    "# Переформатируем данные в 2D, бэкенд TensorFLow\n",
    "#x_train = x_train.reshape(x_train.shape[0], 784)\n",
    "#input_shape = (784,)\n",
    "# Нормализуем данные\n",
    "x_train = x_train.astype(\"float32\")\n",
    "x_train /= 255.0"
   ]
  },
  {
   "cell_type": "code",
   "execution_count": 26,
   "metadata": {
    "collapsed": true
   },
   "outputs": [],
   "source": [
    "# Выделяем правильные ответы\n",
    "y_train = train_dataset[:, 0]\n",
    "# Преобразуем правильные ответы в категоризированное представление\n",
    "y_train = np_utils.to_categorical(y_train)"
   ]
  },
  {
   "cell_type": "code",
   "execution_count": 27,
   "metadata": {},
   "outputs": [
    {
     "data": {
      "text/plain": [
       "(42000, 10)"
      ]
     },
     "execution_count": 27,
     "metadata": {},
     "output_type": "execute_result"
    }
   ],
   "source": [
    "y_train.shape"
   ]
  },
  {
   "cell_type": "code",
   "execution_count": 31,
   "metadata": {
    "collapsed": true
   },
   "outputs": [],
   "source": [
    "from keras import backend as K\n",
    "K.set_image_dim_ordering('th')"
   ]
  },
  {
   "cell_type": "code",
   "execution_count": 48,
   "metadata": {},
   "outputs": [],
   "source": [
    "model = Sequential()\n",
    "\n",
    "model.add(Dense(800, input_dim=784, activation=\"relu\", kernel_initializer=\"normal\"))\n",
    "model.add(Dense(10, activation=\"softmax\", kernel_initializer=\"normal\"))\n"
   ]
  },
  {
   "cell_type": "code",
   "execution_count": 49,
   "metadata": {},
   "outputs": [
    {
     "name": "stdout",
     "output_type": "stream",
     "text": [
      "_________________________________________________________________\n",
      "Layer (type)                 Output Shape              Param #   \n",
      "=================================================================\n",
      "dense_20 (Dense)             (None, 800)               628000    \n",
      "_________________________________________________________________\n",
      "dense_21 (Dense)             (None, 10)                8010      \n",
      "=================================================================\n",
      "Total params: 636,010\n",
      "Trainable params: 636,010\n",
      "Non-trainable params: 0\n",
      "_________________________________________________________________\n",
      "None\n",
      "Epoch 1/10\n",
      "0s - loss: 0.3208 - acc: 0.9082\n",
      "Epoch 2/10\n",
      "0s - loss: 0.1297 - acc: 0.9627\n",
      "Epoch 3/10\n",
      "0s - loss: 0.0870 - acc: 0.9740\n",
      "Epoch 4/10\n",
      "0s - loss: 0.0597 - acc: 0.9830\n",
      "Epoch 5/10\n",
      "0s - loss: 0.0433 - acc: 0.9876\n",
      "Epoch 6/10\n",
      "0s - loss: 0.0325 - acc: 0.9914\n",
      "Epoch 7/10\n",
      "0s - loss: 0.0228 - acc: 0.9949\n",
      "Epoch 8/10\n",
      "0s - loss: 0.0173 - acc: 0.9961\n",
      "Epoch 9/10\n",
      "0s - loss: 0.0120 - acc: 0.9979\n",
      "Epoch 10/10\n",
      "0s - loss: 0.0090 - acc: 0.9987\n"
     ]
    },
    {
     "data": {
      "text/plain": [
       "<keras.callbacks.History at 0x35887198>"
      ]
     },
     "execution_count": 49,
     "metadata": {},
     "output_type": "execute_result"
    }
   ],
   "source": [
    "# Компилируем модель\n",
    "model.compile(loss=\"categorical_crossentropy\", optimizer=\"adam\", metrics=[\"accuracy\"])\n",
    "print(model.summary())\n",
    "\n",
    "# Обучаем сеть\n",
    "model.fit(x_train, y_train, batch_size=200, epochs=10, verbose=2)"
   ]
  },
  {
   "cell_type": "code",
   "execution_count": 50,
   "metadata": {},
   "outputs": [
    {
     "data": {
      "text/plain": [
       "(42000, 784)"
      ]
     },
     "execution_count": 50,
     "metadata": {},
     "output_type": "execute_result"
    }
   ],
   "source": [
    "x_train.shape"
   ]
  },
  {
   "cell_type": "code",
   "execution_count": 51,
   "metadata": {},
   "outputs": [],
   "source": [
    "#Загружаем данные для предсказания\n",
    "test_dataset = np.loadtxt(r'C:\\Users\\Dmitry\\Desktop\\\\CNN_Research_2018\\\\test.csv', skiprows=1, delimiter=\",\")\n",
    "# Переформатируем данные в 2D, бэкенд TensorFLow\n",
    "x_test = test_dataset.reshape(test_dataset.shape[0], 784)\n",
    "x_test /= 255.0"
   ]
  },
  {
   "cell_type": "code",
   "execution_count": 52,
   "metadata": {
    "collapsed": true
   },
   "outputs": [],
   "source": [
    "# Распознаем цифры на изображениях\n",
    "predictions = model.predict(x_test)\n",
    "# Преобразуем предсказания из категориального представления в метки классов\n",
    "predictions = np.argmax(predictions, axis=1)"
   ]
  },
  {
   "cell_type": "code",
   "execution_count": 54,
   "metadata": {
    "collapsed": true
   },
   "outputs": [],
   "source": [
    "out = np.column_stack((range(1, predictions.shape[0]+1), predictions))\n",
    "np.savetxt(r'C:\\Users\\Dmitry\\Desktop\\\\CNN_Research_2018\\\\submission.csv', out, header=\"ImageId,Label\", \n",
    "            comments=\"\", fmt=\"%d,%d\")"
   ]
  },
  {
   "cell_type": "code",
   "execution_count": 55,
   "metadata": {},
   "outputs": [
    {
     "data": {
      "text/plain": [
       "(28000, 784)"
      ]
     },
     "execution_count": 55,
     "metadata": {},
     "output_type": "execute_result"
    }
   ],
   "source": [
    "x_test.shape"
   ]
  },
  {
   "cell_type": "code",
   "execution_count": null,
   "metadata": {
    "collapsed": true
   },
   "outputs": [],
   "source": []
  }
 ],
 "metadata": {
  "kernelspec": {
   "display_name": "Python 3",
   "language": "python",
   "name": "python3"
  },
  "language_info": {
   "codemirror_mode": {
    "name": "ipython",
    "version": 3
   },
   "file_extension": ".py",
   "mimetype": "text/x-python",
   "name": "python",
   "nbconvert_exporter": "python",
   "pygments_lexer": "ipython3",
   "version": "3.6.1"
  }
 },
 "nbformat": 4,
 "nbformat_minor": 2
}
