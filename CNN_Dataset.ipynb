{
 "cells": [
  {
   "cell_type": "code",
   "execution_count": null,
   "metadata": {
    "collapsed": true
   },
   "outputs": [],
   "source": [
    "from PIL import Image\n",
    "import numpy as np\n",
    "import os\n",
    "dir='E:\\OCTdeepLearning\\SetDNNCopy\\\\BCC\\\\Rotate270\\\\'\n",
    "os.chdir('E:\\OCTdeepLearning\\SetDNNCopy\\\\BCC\\\\Tissue')\n",
    "imgfiles=os.listdir()\n",
    "for img in imgfiles:\n",
    "    e,f=os.path.splitext(img)\n",
    "    im=Image.open(img);\n",
    "    out = im.transpose(Image.ROTATE_270)\n",
    "    outfile=dir+e+f;\n",
    "    out.save(outfile)\n",
    "\n"
   ]
  },
  {
   "cell_type": "code",
   "execution_count": 118,
   "metadata": {
    "collapsed": true
   },
   "outputs": [],
   "source": [
    "\n",
    "dir='E:\\OCTdeepLearning\\SetDNNCopy\\\\BCC\\\\Rotate180\\\\'\n",
    "os.chdir('E:\\OCTdeepLearning\\SetDNNCopy\\\\BCC\\\\Tissue')\n",
    "imgfiles=os.listdir()\n",
    "for img in imgfiles:\n",
    "    e,f=os.path.splitext(img)\n",
    "    im=Image.open(img);\n",
    "    out = im.transpose(Image.ROTATE_180)\n",
    "    outfile=dir+e+f;\n",
    "    out.save(outfile)"
   ]
  },
  {
   "cell_type": "code",
   "execution_count": 120,
   "metadata": {
    "collapsed": true
   },
   "outputs": [],
   "source": [
    "dir='E:\\OCTdeepLearning\\HTAdd\\\\Rotate90\\\\'\n",
    "os.chdir('E:\\OCTdeepLearning\\HTAdd\\\\Tissue')\n",
    "imgfiles=os.listdir()\n",
    "for img in imgfiles:\n",
    "    e,f=os.path.splitext(img)\n",
    "    im=Image.open(img);\n",
    "    out = im.transpose(Image.ROTATE_90)\n",
    "    outfile=dir+e+f;\n",
    "    out.save(outfile)"
   ]
  },
  {
   "cell_type": "code",
   "execution_count": 13,
   "metadata": {
    "collapsed": true
   },
   "outputs": [],
   "source": [
    "dir=r'C:\\Users\\Dmitry\\Desktop\\Test\\Flip0\\\\'\n",
    "os.chdir(r'C:\\Users\\Dmitry\\Desktop\\Test\\Tissue')\n",
    "imgfiles=os.listdir()\n",
    "for img in imgfiles:\n",
    "    e,f=os.path.splitext(img)\n",
    "    im=Image.open(img);\n",
    "    out = im.transpose(Image.FLIP_LEFT_RIGHT)\n",
    "    outfile=dir+e+f;\n",
    "    out.save(outfile)"
   ]
  },
  {
   "cell_type": "code",
   "execution_count": 122,
   "metadata": {
    "collapsed": true
   },
   "outputs": [],
   "source": [
    "dir='E:\\OCTdeepLearning\\\\HTAdd\\\\Flip90\\\\'\n",
    "os.chdir('E:\\OCTdeepLearning\\HTAdd\\\\Flip0')\n",
    "imgfiles=os.listdir()\n",
    "for img in imgfiles:\n",
    "    e,f=os.path.splitext(img)\n",
    "    im=Image.open(img);\n",
    "    out = im.transpose(Image.ROTATE_90)\n",
    "    outfile=dir+e+f;\n",
    "    out.save(outfile)"
   ]
  },
  {
   "cell_type": "code",
   "execution_count": 123,
   "metadata": {
    "collapsed": true
   },
   "outputs": [],
   "source": [
    "dir='E:\\OCTdeepLearning\\HTAdd\\\\Flip180\\\\'\n",
    "os.chdir('E:\\OCTdeepLearning\\HTAdd\\\\Flip0')\n",
    "imgfiles=os.listdir()\n",
    "for img in imgfiles:\n",
    "    e,f=os.path.splitext(img)\n",
    "    im=Image.open(img);\n",
    "    out = im.transpose(Image.ROTATE_180)\n",
    "    outfile=dir+e+f;\n",
    "    out.save(outfile)"
   ]
  },
  {
   "cell_type": "code",
   "execution_count": 124,
   "metadata": {
    "collapsed": true
   },
   "outputs": [],
   "source": [
    "dir='E:\\OCTdeepLearning\\HTAdd\\\\Flip270\\\\'\n",
    "os.chdir('E:\\OCTdeepLearning\\HTAdd\\\\Flip0')\n",
    "imgfiles=os.listdir()\n",
    "for img in imgfiles:\n",
    "    e,f=os.path.splitext(img)\n",
    "    im=Image.open(img);\n",
    "    out = im.transpose(Image.ROTATE_270)\n",
    "    outfile=dir+e+f;\n",
    "    out.save(outfile)"
   ]
  },
  {
   "cell_type": "code",
   "execution_count": 17,
   "metadata": {
    "collapsed": true
   },
   "outputs": [],
   "source": [
    "from PIL import Image\n",
    "import numpy as np\n",
    "import os\n",
    "dir=r'E:\\OCTdeepLearning\\SetDNNTest\\Nevus\\Rotate45\\\\'\n",
    "os.chdir(r'E:\\OCTdeepLearning\\SetDNNTest\\Nevus\\Tissue')\n",
    "imgfiles=os.listdir()\n",
    "for img in imgfiles:\n",
    "    e,f=os.path.splitext(img)\n",
    "    im=Image.open(img);\n",
    "    out = im.rotate(45);\n",
    "    outfile=dir+e+f;\n",
    "    out.save(outfile)"
   ]
  },
  {
   "cell_type": "code",
   "execution_count": 18,
   "metadata": {
    "collapsed": true
   },
   "outputs": [],
   "source": [
    "from PIL import Image\n",
    "import numpy as np\n",
    "import os\n",
    "dir=r'E:\\OCTdeepLearning\\SetDNNTest\\Nevus\\Rotate135\\\\'\n",
    "os.chdir(r'E:\\OCTdeepLearning\\SetDNNTest\\Nevus\\Tissue')\n",
    "imgfiles=os.listdir()\n",
    "for img in imgfiles:\n",
    "    e,f=os.path.splitext(img)\n",
    "    im=Image.open(img);\n",
    "    out = im.rotate(135);\n",
    "    outfile=dir+e+f;\n",
    "    out.save(outfile)"
   ]
  },
  {
   "cell_type": "code",
   "execution_count": 19,
   "metadata": {
    "collapsed": true
   },
   "outputs": [],
   "source": [
    "from PIL import Image\n",
    "import numpy as np\n",
    "import os\n",
    "dir=r'E:\\OCTdeepLearning\\SetDNNTest\\Nevus\\Rotate225\\\\'\n",
    "os.chdir(r'E:\\OCTdeepLearning\\SetDNNTest\\Nevus\\Tissue')\n",
    "imgfiles=os.listdir()\n",
    "for img in imgfiles:\n",
    "    e,f=os.path.splitext(img)\n",
    "    im=Image.open(img);\n",
    "    out = im.rotate(225);\n",
    "    outfile=dir+e+f;\n",
    "    out.save(outfile)"
   ]
  },
  {
   "cell_type": "code",
   "execution_count": 20,
   "metadata": {
    "collapsed": true
   },
   "outputs": [],
   "source": [
    "from PIL import Image\n",
    "import numpy as np\n",
    "import os\n",
    "dir=r'E:\\OCTdeepLearning\\SetDNNTest\\Nevus\\Rotate315\\\\'\n",
    "os.chdir(r'E:\\OCTdeepLearning\\SetDNNTest\\Nevus\\Tissue')\n",
    "imgfiles=os.listdir()\n",
    "for img in imgfiles:\n",
    "    e,f=os.path.splitext(img)\n",
    "    im=Image.open(img);\n",
    "    out = im.rotate(315);\n",
    "    outfile=dir+e+f;\n",
    "    out.save(outfile)"
   ]
  },
  {
   "cell_type": "code",
   "execution_count": 21,
   "metadata": {
    "collapsed": true
   },
   "outputs": [],
   "source": [
    "from PIL import Image\n",
    "import numpy as np\n",
    "import os\n",
    "dir=r'E:\\OCTdeepLearning\\SetDNNTest\\Nevus\\Flip45\\\\'\n",
    "os.chdir(r'E:\\OCTdeepLearning\\SetDNNTest\\Nevus\\Flip0')\n",
    "imgfiles=os.listdir()\n",
    "for img in imgfiles:\n",
    "    e,f=os.path.splitext(img)\n",
    "    im=Image.open(img);\n",
    "    out = im.rotate(45);\n",
    "    outfile=dir+e+f;\n",
    "    out.save(outfile)"
   ]
  },
  {
   "cell_type": "code",
   "execution_count": 22,
   "metadata": {
    "collapsed": true
   },
   "outputs": [],
   "source": [
    "from PIL import Image\n",
    "import numpy as np\n",
    "import os\n",
    "dir=r'E:\\OCTdeepLearning\\SetDNNTest\\Nevus\\Flip135\\\\'\n",
    "os.chdir(r'E:\\OCTdeepLearning\\SetDNNTest\\Nevus\\Flip0')\n",
    "imgfiles=os.listdir()\n",
    "for img in imgfiles:\n",
    "    e,f=os.path.splitext(img)\n",
    "    im=Image.open(img);\n",
    "    out = im.rotate(135);\n",
    "    outfile=dir+e+f;\n",
    "    out.save(outfile)"
   ]
  },
  {
   "cell_type": "code",
   "execution_count": 23,
   "metadata": {
    "collapsed": true
   },
   "outputs": [],
   "source": [
    "from PIL import Image\n",
    "import numpy as np\n",
    "import os\n",
    "dir=r'E:\\OCTdeepLearning\\SetDNNTest\\Nevus\\Flip225\\\\'\n",
    "os.chdir(r'E:\\OCTdeepLearning\\SetDNNTest\\Nevus\\Flip0')\n",
    "imgfiles=os.listdir()\n",
    "for img in imgfiles:\n",
    "    e,f=os.path.splitext(img)\n",
    "    im=Image.open(img);\n",
    "    out = im.rotate(225);\n",
    "    outfile=dir+e+f;\n",
    "    out.save(outfile)"
   ]
  },
  {
   "cell_type": "code",
   "execution_count": 24,
   "metadata": {
    "collapsed": true
   },
   "outputs": [],
   "source": [
    "from PIL import Image\n",
    "import numpy as np\n",
    "import os\n",
    "dir=r'E:\\OCTdeepLearning\\SetDNNTest\\Nevus\\Flip315\\\\'\n",
    "os.chdir(r'E:\\OCTdeepLearning\\SetDNNTest\\Nevus\\Flip0')\n",
    "imgfiles=os.listdir()\n",
    "for img in imgfiles:\n",
    "    e,f=os.path.splitext(img)\n",
    "    im=Image.open(img);\n",
    "    out = im.rotate(315);\n",
    "    outfile=dir+e+f;\n",
    "    out.save(outfile)"
   ]
  },
  {
   "cell_type": "code",
   "execution_count": null,
   "metadata": {
    "collapsed": true
   },
   "outputs": [],
   "source": []
  }
 ],
 "metadata": {
  "kernelspec": {
   "display_name": "Python 3",
   "language": "python",
   "name": "python3"
  },
  "language_info": {
   "codemirror_mode": {
    "name": "ipython",
    "version": 3
   },
   "file_extension": ".py",
   "mimetype": "text/x-python",
   "name": "python",
   "nbconvert_exporter": "python",
   "pygments_lexer": "ipython3",
   "version": "3.6.1"
  }
 },
 "nbformat": 4,
 "nbformat_minor": 2
}
